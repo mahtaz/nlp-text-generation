{
  "nbformat": 4,
  "nbformat_minor": 0,
  "metadata": {
    "accelerator": "GPU",
    "colab": {
      "name": "character based language model.ipynb",
      "provenance": [],
      "collapsed_sections": []
    },
    "kernelspec": {
      "display_name": "Python 3",
      "language": "python",
      "name": "python3"
    },
    "language_info": {
      "codemirror_mode": {
        "name": "ipython",
        "version": 3
      },
      "file_extension": ".py",
      "mimetype": "text/x-python",
      "name": "python",
      "nbconvert_exporter": "python",
      "pygments_lexer": "ipython3",
      "version": "3.7.6"
    },
    "widgets": {
      "application/vnd.jupyter.widget-state+json": {
        "d5cdc1a031824c7880a67f3a291b7afc": {
          "model_module": "@jupyter-widgets/controls",
          "model_name": "HBoxModel",
          "state": {
            "_view_name": "HBoxView",
            "_dom_classes": [],
            "_model_name": "HBoxModel",
            "_view_module": "@jupyter-widgets/controls",
            "_model_module_version": "1.5.0",
            "_view_count": null,
            "_view_module_version": "1.5.0",
            "box_style": "",
            "layout": "IPY_MODEL_afc2a82ba01547a9848330d7385cbc0c",
            "_model_module": "@jupyter-widgets/controls",
            "children": [
              "IPY_MODEL_8c52231c9e674e2eb262150d7198ee21",
              "IPY_MODEL_ecdf2c77130f459db5724d1cbfe19f7e"
            ]
          }
        },
        "afc2a82ba01547a9848330d7385cbc0c": {
          "model_module": "@jupyter-widgets/base",
          "model_name": "LayoutModel",
          "state": {
            "_view_name": "LayoutView",
            "grid_template_rows": null,
            "right": null,
            "justify_content": null,
            "_view_module": "@jupyter-widgets/base",
            "overflow": null,
            "_model_module_version": "1.2.0",
            "_view_count": null,
            "flex_flow": null,
            "width": null,
            "min_width": null,
            "border": null,
            "align_items": null,
            "bottom": null,
            "_model_module": "@jupyter-widgets/base",
            "top": null,
            "grid_column": null,
            "overflow_y": null,
            "overflow_x": null,
            "grid_auto_flow": null,
            "grid_area": null,
            "grid_template_columns": null,
            "flex": null,
            "_model_name": "LayoutModel",
            "justify_items": null,
            "grid_row": null,
            "max_height": null,
            "align_content": null,
            "visibility": null,
            "align_self": null,
            "height": null,
            "min_height": null,
            "padding": null,
            "grid_auto_rows": null,
            "grid_gap": null,
            "max_width": null,
            "order": null,
            "_view_module_version": "1.2.0",
            "grid_template_areas": null,
            "object_position": null,
            "object_fit": null,
            "grid_auto_columns": null,
            "margin": null,
            "display": null,
            "left": null
          }
        },
        "8c52231c9e674e2eb262150d7198ee21": {
          "model_module": "@jupyter-widgets/controls",
          "model_name": "FloatProgressModel",
          "state": {
            "_view_name": "ProgressView",
            "style": "IPY_MODEL_97b861b751744737b9655bfea25a28c7",
            "_dom_classes": [],
            "description": "100%",
            "_model_name": "FloatProgressModel",
            "bar_style": "success",
            "max": 36,
            "_view_module": "@jupyter-widgets/controls",
            "_model_module_version": "1.5.0",
            "value": 36,
            "_view_count": null,
            "_view_module_version": "1.5.0",
            "orientation": "horizontal",
            "min": 0,
            "description_tooltip": null,
            "_model_module": "@jupyter-widgets/controls",
            "layout": "IPY_MODEL_cb68180758bb492dadc97ee80379f2cc"
          }
        },
        "ecdf2c77130f459db5724d1cbfe19f7e": {
          "model_module": "@jupyter-widgets/controls",
          "model_name": "HTMLModel",
          "state": {
            "_view_name": "HTMLView",
            "style": "IPY_MODEL_6886ee68ae444807999ca8ef7f686390",
            "_dom_classes": [],
            "description": "",
            "_model_name": "HTMLModel",
            "placeholder": "​",
            "_view_module": "@jupyter-widgets/controls",
            "_model_module_version": "1.5.0",
            "value": " 36/36 [11:39&lt;00:00, 19.43s/it]",
            "_view_count": null,
            "_view_module_version": "1.5.0",
            "description_tooltip": null,
            "_model_module": "@jupyter-widgets/controls",
            "layout": "IPY_MODEL_a4314ebfdf7740c09d370dca4f898e6b"
          }
        },
        "97b861b751744737b9655bfea25a28c7": {
          "model_module": "@jupyter-widgets/controls",
          "model_name": "ProgressStyleModel",
          "state": {
            "_view_name": "StyleView",
            "_model_name": "ProgressStyleModel",
            "description_width": "initial",
            "_view_module": "@jupyter-widgets/base",
            "_model_module_version": "1.5.0",
            "_view_count": null,
            "_view_module_version": "1.2.0",
            "bar_color": null,
            "_model_module": "@jupyter-widgets/controls"
          }
        },
        "cb68180758bb492dadc97ee80379f2cc": {
          "model_module": "@jupyter-widgets/base",
          "model_name": "LayoutModel",
          "state": {
            "_view_name": "LayoutView",
            "grid_template_rows": null,
            "right": null,
            "justify_content": null,
            "_view_module": "@jupyter-widgets/base",
            "overflow": null,
            "_model_module_version": "1.2.0",
            "_view_count": null,
            "flex_flow": null,
            "width": null,
            "min_width": null,
            "border": null,
            "align_items": null,
            "bottom": null,
            "_model_module": "@jupyter-widgets/base",
            "top": null,
            "grid_column": null,
            "overflow_y": null,
            "overflow_x": null,
            "grid_auto_flow": null,
            "grid_area": null,
            "grid_template_columns": null,
            "flex": null,
            "_model_name": "LayoutModel",
            "justify_items": null,
            "grid_row": null,
            "max_height": null,
            "align_content": null,
            "visibility": null,
            "align_self": null,
            "height": null,
            "min_height": null,
            "padding": null,
            "grid_auto_rows": null,
            "grid_gap": null,
            "max_width": null,
            "order": null,
            "_view_module_version": "1.2.0",
            "grid_template_areas": null,
            "object_position": null,
            "object_fit": null,
            "grid_auto_columns": null,
            "margin": null,
            "display": null,
            "left": null
          }
        },
        "6886ee68ae444807999ca8ef7f686390": {
          "model_module": "@jupyter-widgets/controls",
          "model_name": "DescriptionStyleModel",
          "state": {
            "_view_name": "StyleView",
            "_model_name": "DescriptionStyleModel",
            "description_width": "",
            "_view_module": "@jupyter-widgets/base",
            "_model_module_version": "1.5.0",
            "_view_count": null,
            "_view_module_version": "1.2.0",
            "_model_module": "@jupyter-widgets/controls"
          }
        },
        "a4314ebfdf7740c09d370dca4f898e6b": {
          "model_module": "@jupyter-widgets/base",
          "model_name": "LayoutModel",
          "state": {
            "_view_name": "LayoutView",
            "grid_template_rows": null,
            "right": null,
            "justify_content": null,
            "_view_module": "@jupyter-widgets/base",
            "overflow": null,
            "_model_module_version": "1.2.0",
            "_view_count": null,
            "flex_flow": null,
            "width": null,
            "min_width": null,
            "border": null,
            "align_items": null,
            "bottom": null,
            "_model_module": "@jupyter-widgets/base",
            "top": null,
            "grid_column": null,
            "overflow_y": null,
            "overflow_x": null,
            "grid_auto_flow": null,
            "grid_area": null,
            "grid_template_columns": null,
            "flex": null,
            "_model_name": "LayoutModel",
            "justify_items": null,
            "grid_row": null,
            "max_height": null,
            "align_content": null,
            "visibility": null,
            "align_self": null,
            "height": null,
            "min_height": null,
            "padding": null,
            "grid_auto_rows": null,
            "grid_gap": null,
            "max_width": null,
            "order": null,
            "_view_module_version": "1.2.0",
            "grid_template_areas": null,
            "object_position": null,
            "object_fit": null,
            "grid_auto_columns": null,
            "margin": null,
            "display": null,
            "left": null
          }
        },
        "c110874db4ca44c08bfc67770003dbff": {
          "model_module": "@jupyter-widgets/controls",
          "model_name": "HBoxModel",
          "state": {
            "_view_name": "HBoxView",
            "_dom_classes": [],
            "_model_name": "HBoxModel",
            "_view_module": "@jupyter-widgets/controls",
            "_model_module_version": "1.5.0",
            "_view_count": null,
            "_view_module_version": "1.5.0",
            "box_style": "",
            "layout": "IPY_MODEL_01eca9b5b5414a34b1b0f8bd75797474",
            "_model_module": "@jupyter-widgets/controls",
            "children": [
              "IPY_MODEL_47a522b2f74145ddbfca3e87ff8e1854",
              "IPY_MODEL_a0e5f44d98894971bdd7d9f6c3fb33d8"
            ]
          }
        },
        "01eca9b5b5414a34b1b0f8bd75797474": {
          "model_module": "@jupyter-widgets/base",
          "model_name": "LayoutModel",
          "state": {
            "_view_name": "LayoutView",
            "grid_template_rows": null,
            "right": null,
            "justify_content": null,
            "_view_module": "@jupyter-widgets/base",
            "overflow": null,
            "_model_module_version": "1.2.0",
            "_view_count": null,
            "flex_flow": null,
            "width": null,
            "min_width": null,
            "border": null,
            "align_items": null,
            "bottom": null,
            "_model_module": "@jupyter-widgets/base",
            "top": null,
            "grid_column": null,
            "overflow_y": null,
            "overflow_x": null,
            "grid_auto_flow": null,
            "grid_area": null,
            "grid_template_columns": null,
            "flex": null,
            "_model_name": "LayoutModel",
            "justify_items": null,
            "grid_row": null,
            "max_height": null,
            "align_content": null,
            "visibility": null,
            "align_self": null,
            "height": null,
            "min_height": null,
            "padding": null,
            "grid_auto_rows": null,
            "grid_gap": null,
            "max_width": null,
            "order": null,
            "_view_module_version": "1.2.0",
            "grid_template_areas": null,
            "object_position": null,
            "object_fit": null,
            "grid_auto_columns": null,
            "margin": null,
            "display": null,
            "left": null
          }
        },
        "47a522b2f74145ddbfca3e87ff8e1854": {
          "model_module": "@jupyter-widgets/controls",
          "model_name": "FloatProgressModel",
          "state": {
            "_view_name": "ProgressView",
            "style": "IPY_MODEL_5f0a7ab50ef24eb2acec773a52b19353",
            "_dom_classes": [],
            "description": "100%",
            "_model_name": "FloatProgressModel",
            "bar_style": "success",
            "max": 36,
            "_view_module": "@jupyter-widgets/controls",
            "_model_module_version": "1.5.0",
            "value": 36,
            "_view_count": null,
            "_view_module_version": "1.5.0",
            "orientation": "horizontal",
            "min": 0,
            "description_tooltip": null,
            "_model_module": "@jupyter-widgets/controls",
            "layout": "IPY_MODEL_75c08eef249c4fac93244519e9e8b150"
          }
        },
        "a0e5f44d98894971bdd7d9f6c3fb33d8": {
          "model_module": "@jupyter-widgets/controls",
          "model_name": "HTMLModel",
          "state": {
            "_view_name": "HTMLView",
            "style": "IPY_MODEL_c1c09bbed92e4a02b376ef746c41aa3e",
            "_dom_classes": [],
            "description": "",
            "_model_name": "HTMLModel",
            "placeholder": "​",
            "_view_module": "@jupyter-widgets/controls",
            "_model_module_version": "1.5.0",
            "value": " 36/36 [11:54&lt;00:00, 19.83s/it]",
            "_view_count": null,
            "_view_module_version": "1.5.0",
            "description_tooltip": null,
            "_model_module": "@jupyter-widgets/controls",
            "layout": "IPY_MODEL_f2e3d1b91e7c42bd92c6c5d1ed802872"
          }
        },
        "5f0a7ab50ef24eb2acec773a52b19353": {
          "model_module": "@jupyter-widgets/controls",
          "model_name": "ProgressStyleModel",
          "state": {
            "_view_name": "StyleView",
            "_model_name": "ProgressStyleModel",
            "description_width": "initial",
            "_view_module": "@jupyter-widgets/base",
            "_model_module_version": "1.5.0",
            "_view_count": null,
            "_view_module_version": "1.2.0",
            "bar_color": null,
            "_model_module": "@jupyter-widgets/controls"
          }
        },
        "75c08eef249c4fac93244519e9e8b150": {
          "model_module": "@jupyter-widgets/base",
          "model_name": "LayoutModel",
          "state": {
            "_view_name": "LayoutView",
            "grid_template_rows": null,
            "right": null,
            "justify_content": null,
            "_view_module": "@jupyter-widgets/base",
            "overflow": null,
            "_model_module_version": "1.2.0",
            "_view_count": null,
            "flex_flow": null,
            "width": null,
            "min_width": null,
            "border": null,
            "align_items": null,
            "bottom": null,
            "_model_module": "@jupyter-widgets/base",
            "top": null,
            "grid_column": null,
            "overflow_y": null,
            "overflow_x": null,
            "grid_auto_flow": null,
            "grid_area": null,
            "grid_template_columns": null,
            "flex": null,
            "_model_name": "LayoutModel",
            "justify_items": null,
            "grid_row": null,
            "max_height": null,
            "align_content": null,
            "visibility": null,
            "align_self": null,
            "height": null,
            "min_height": null,
            "padding": null,
            "grid_auto_rows": null,
            "grid_gap": null,
            "max_width": null,
            "order": null,
            "_view_module_version": "1.2.0",
            "grid_template_areas": null,
            "object_position": null,
            "object_fit": null,
            "grid_auto_columns": null,
            "margin": null,
            "display": null,
            "left": null
          }
        },
        "c1c09bbed92e4a02b376ef746c41aa3e": {
          "model_module": "@jupyter-widgets/controls",
          "model_name": "DescriptionStyleModel",
          "state": {
            "_view_name": "StyleView",
            "_model_name": "DescriptionStyleModel",
            "description_width": "",
            "_view_module": "@jupyter-widgets/base",
            "_model_module_version": "1.5.0",
            "_view_count": null,
            "_view_module_version": "1.2.0",
            "_model_module": "@jupyter-widgets/controls"
          }
        },
        "f2e3d1b91e7c42bd92c6c5d1ed802872": {
          "model_module": "@jupyter-widgets/base",
          "model_name": "LayoutModel",
          "state": {
            "_view_name": "LayoutView",
            "grid_template_rows": null,
            "right": null,
            "justify_content": null,
            "_view_module": "@jupyter-widgets/base",
            "overflow": null,
            "_model_module_version": "1.2.0",
            "_view_count": null,
            "flex_flow": null,
            "width": null,
            "min_width": null,
            "border": null,
            "align_items": null,
            "bottom": null,
            "_model_module": "@jupyter-widgets/base",
            "top": null,
            "grid_column": null,
            "overflow_y": null,
            "overflow_x": null,
            "grid_auto_flow": null,
            "grid_area": null,
            "grid_template_columns": null,
            "flex": null,
            "_model_name": "LayoutModel",
            "justify_items": null,
            "grid_row": null,
            "max_height": null,
            "align_content": null,
            "visibility": null,
            "align_self": null,
            "height": null,
            "min_height": null,
            "padding": null,
            "grid_auto_rows": null,
            "grid_gap": null,
            "max_width": null,
            "order": null,
            "_view_module_version": "1.2.0",
            "grid_template_areas": null,
            "object_position": null,
            "object_fit": null,
            "grid_auto_columns": null,
            "margin": null,
            "display": null,
            "left": null
          }
        }
      }
    }
  },
  "cells": [
    {
      "cell_type": "code",
      "metadata": {
        "colab": {
          "base_uri": "https://localhost:8080/"
        },
        "id": "LxOI8EuYykMg",
        "outputId": "daf21f31-8661-45cb-aed7-2fc57019445d"
      },
      "source": [
        "\n",
        "from google.colab import drive\n",
        "drive.mount('/content/drive')\n",
        "%cd \"/content/drive/MyDrive/Colab Notebooks/Deep lr hw3\"\n",
        "!ls"
      ],
      "execution_count": null,
      "outputs": [
        {
          "output_type": "stream",
          "text": [
            "Drive already mounted at /content/drive; to attempt to forcibly remount, call drive.mount(\"/content/drive\", force_remount=True).\n",
            "/content/drive/MyDrive/Colab Notebooks/Deep lr hw3\n",
            "Anne.txt  nietzsche.txt\n"
          ],
          "name": "stdout"
        }
      ]
    },
    {
      "cell_type": "code",
      "metadata": {
        "id": "fBlCH3jbRx7S",
        "colab": {
          "base_uri": "https://localhost:8080/"
        },
        "outputId": "ebbdcfaf-02f7-4a67-8db5-a1f2bbeb0636"
      },
      "source": [
        "from torchvision import models,transforms,datasets\n",
        "import torch\n",
        "import numpy as np\n",
        "from torch.utils.data import random_split\n",
        "import torch.nn as nn\n",
        "from torch import nn\n",
        "import numpy as np\n",
        "from torch import nn, optim\n",
        "from torch.utils.data import DataLoader\n",
        "import torch.nn.functional as F\n",
        "from tqdm.notebook import  tqdm\n",
        "\n",
        "device = torch.device('cuda' if torch.cuda.is_available() else 'cpu')\n",
        "print(' Running on:', device)"
      ],
      "execution_count": null,
      "outputs": [
        {
          "output_type": "stream",
          "text": [
            " Running on: cuda\n"
          ],
          "name": "stdout"
        }
      ]
    },
    {
      "cell_type": "markdown",
      "metadata": {
        "id": "vqhe6rsMnEUM"
      },
      "source": [
        "# 1.Preparing the Training data"
      ]
    },
    {
      "cell_type": "code",
      "metadata": {
        "id": "eKSvaqS_Aaa9"
      },
      "source": [
        "import torch\n",
        "import pandas as pd\n",
        "from collections import Counter\n",
        "\n",
        "class prepare_Dataset(torch.utils.data.Dataset):\n",
        "    def __init__(self,file):\n",
        "        \n",
        "        self.file=file\n",
        "        self.max_length=40\n",
        "        self.step_size=3\n",
        "        self.text = self.read_text()\n",
        "        self.uniq_chars = self.get_uniq_chars()\n",
        "        \n",
        "        print('number of unique chars:',len(self.uniq_chars))\n",
        "\n",
        "        self.index2char = {idx: chr for idx, chr in enumerate(self.uniq_chars)}\n",
        "        print(self.index2char)\n",
        "        self.char2index = {chr: idx for idx, chr in enumerate(self.uniq_chars)}\n",
        "        print(self.char2index)\n",
        "        self.text2idx = [self.char2index[w] for w in self.text]\n",
        "        self.sentences=self.get_sentences()\n",
        "\n",
        "    def read_text(self):\n",
        "        with open(self.file ,'r') as f:#'Anne.txt' ,encoding='cp1252'\n",
        "          text = f.read()\n",
        "\n",
        "        return text#.lower()#making all alphabet to lowercase\n",
        "\n",
        "    def get_uniq_chars(self):\n",
        "        #print('**',sorted(set(self.text)))\n",
        "        return sorted(set(self.text))\n",
        "\n",
        "    def __len__(self):\n",
        "        return (len(self.text2idx) - self.max_length-1)//self.step_size\n",
        "    \n",
        "    def get_sentences(self):\n",
        "      sentences=[]\n",
        "      end=len(self.text)-self.max_length-1\n",
        "      for i in range(0,end,self.step_size):\n",
        "        x=torch.tensor(self.text2idx[i : i + self.max_length])\n",
        "        y=torch.tensor(self.text2idx[i+1 : i+1 + self.max_length])\n",
        "        sentences.append((x,y))\n",
        "      return sentences\n",
        "\n",
        "    def __getitem__(self, idx):\n",
        "        return self.sentences[idx]"
      ],
      "execution_count": null,
      "outputs": []
    },
    {
      "cell_type": "markdown",
      "metadata": {
        "id": "f9DYgiC8WPjw"
      },
      "source": [
        "## sample training data"
      ]
    },
    {
      "cell_type": "code",
      "metadata": {
        "colab": {
          "base_uri": "https://localhost:8080/"
        },
        "id": "Xxzi2AFkYKxy",
        "outputId": "c8b0e44a-7b7a-4e70-f5fb-1b2dc592d862"
      },
      "source": [
        "from torch.utils.data import DataLoader\n",
        "train_data=prepare_Dataset('nietzsche.txt')\n",
        "batch_size=64\n",
        "train_loader=DataLoader(train_data,batch_size=batch_size,drop_last=True)\n",
        "x,y=next(iter(train_loader))\n",
        "print(x.shape,y.shape)\n",
        "x,y"
      ],
      "execution_count": null,
      "outputs": [
        {
          "output_type": "stream",
          "text": [
            "number of unique chars: 84\n",
            "{0: '\\n', 1: ' ', 2: '!', 3: '\"', 4: \"'\", 5: '(', 6: ')', 7: ',', 8: '-', 9: '.', 10: '0', 11: '1', 12: '2', 13: '3', 14: '4', 15: '5', 16: '6', 17: '7', 18: '8', 19: '9', 20: ':', 21: ';', 22: '=', 23: '?', 24: 'A', 25: 'B', 26: 'C', 27: 'D', 28: 'E', 29: 'F', 30: 'G', 31: 'H', 32: 'I', 33: 'J', 34: 'K', 35: 'L', 36: 'M', 37: 'N', 38: 'O', 39: 'P', 40: 'Q', 41: 'R', 42: 'S', 43: 'T', 44: 'U', 45: 'V', 46: 'W', 47: 'X', 48: 'Y', 49: 'Z', 50: '[', 51: ']', 52: '_', 53: 'a', 54: 'b', 55: 'c', 56: 'd', 57: 'e', 58: 'f', 59: 'g', 60: 'h', 61: 'i', 62: 'j', 63: 'k', 64: 'l', 65: 'm', 66: 'n', 67: 'o', 68: 'p', 69: 'q', 70: 'r', 71: 's', 72: 't', 73: 'u', 74: 'v', 75: 'w', 76: 'x', 77: 'y', 78: 'z', 79: 'Æ', 80: 'ä', 81: 'æ', 82: 'é', 83: 'ë'}\n",
            "{'\\n': 0, ' ': 1, '!': 2, '\"': 3, \"'\": 4, '(': 5, ')': 6, ',': 7, '-': 8, '.': 9, '0': 10, '1': 11, '2': 12, '3': 13, '4': 14, '5': 15, '6': 16, '7': 17, '8': 18, '9': 19, ':': 20, ';': 21, '=': 22, '?': 23, 'A': 24, 'B': 25, 'C': 26, 'D': 27, 'E': 28, 'F': 29, 'G': 30, 'H': 31, 'I': 32, 'J': 33, 'K': 34, 'L': 35, 'M': 36, 'N': 37, 'O': 38, 'P': 39, 'Q': 40, 'R': 41, 'S': 42, 'T': 43, 'U': 44, 'V': 45, 'W': 46, 'X': 47, 'Y': 48, 'Z': 49, '[': 50, ']': 51, '_': 52, 'a': 53, 'b': 54, 'c': 55, 'd': 56, 'e': 57, 'f': 58, 'g': 59, 'h': 60, 'i': 61, 'j': 62, 'k': 63, 'l': 64, 'm': 65, 'n': 66, 'o': 67, 'p': 68, 'q': 69, 'r': 70, 's': 71, 't': 72, 'u': 73, 'v': 74, 'w': 75, 'x': 76, 'y': 77, 'z': 78, 'Æ': 79, 'ä': 80, 'æ': 81, 'é': 82, 'ë': 83}\n",
            "torch.Size([64, 40]) torch.Size([64, 40])\n"
          ],
          "name": "stdout"
        },
        {
          "output_type": "execute_result",
          "data": {
            "text/plain": [
              "(tensor([[39, 41, 28,  ..., 67, 65, 53],\n",
              "         [29, 24, 26,  ..., 66,  8,  8],\n",
              "         [28,  0,  0,  ..., 75, 60, 53],\n",
              "         ...,\n",
              "         [ 8,  8, 72,  ..., 64, 73, 65],\n",
              "         [60, 53, 72,  ..., 71, 77,  1],\n",
              "         [ 1, 72, 60,  ..., 61, 65, 68]]),\n",
              " tensor([[41, 28, 29,  ..., 65, 53, 66],\n",
              "         [24, 26, 28,  ...,  8,  8, 75],\n",
              "         [ 0,  0,  0,  ..., 60, 53, 72],\n",
              "         ...,\n",
              "         [ 8, 72, 60,  ..., 73, 65, 71],\n",
              "         [53, 72,  1,  ..., 77,  1, 61],\n",
              "         [72, 60, 57,  ..., 65, 68, 67]]))"
            ]
          },
          "metadata": {
            "tags": []
          },
          "execution_count": 4
        }
      ]
    },
    {
      "cell_type": "markdown",
      "metadata": {
        "id": "lHzGDiOUni1Z"
      },
      "source": [
        "##understanding the shapes\n",
        "\n",
        "\n",
        "*   Number of unique characters in the text = 84\n",
        "*   Embedding dimension = 300\n",
        "*   batch_size = 64\n",
        "*   sequence_length = 40\n",
        "*   x.shape = [ 64 , 40 ]\n",
        "*   embedding_dim = 300\n",
        "*   embed(x).shape = [ 64, 40, 300 ]\n",
        "\n",
        "\n",
        "\n",
        "\n",
        "\n",
        "\n",
        "\n"
      ]
    },
    {
      "cell_type": "code",
      "metadata": {
        "colab": {
          "base_uri": "https://localhost:8080/"
        },
        "id": "m7OByVmoMl6M",
        "outputId": "6ec3c44d-b913-4950-ec0b-20eefe45e05e"
      },
      "source": [
        "embed=nn.Embedding(84,300)\n",
        "print(embed(x).shape)"
      ],
      "execution_count": null,
      "outputs": [
        {
          "output_type": "stream",
          "text": [
            "torch.Size([64, 40, 300])\n"
          ],
          "name": "stdout"
        }
      ]
    },
    {
      "cell_type": "markdown",
      "metadata": {
        "id": "E5DnOWI-pu_Q"
      },
      "source": [
        "A description of the model parameters"
      ]
    },
    {
      "cell_type": "code",
      "metadata": {
        "colab": {
          "base_uri": "https://localhost:8080/"
        },
        "id": "c0_b6SMMNq-U",
        "outputId": "ad6c11f4-f340-41df-8d3b-70ff0ce0e79e"
      },
      "source": [
        "rnn = nn.GRU(300,128,2)\n",
        "fc=nn.Linear(128,84)\n",
        "input = torch.randn(100,40,300)\n",
        "h0 = torch.randn(2, 40,128)\n",
        "out, hn = rnn(input, h0)\n",
        "out=fc(out)\n",
        "out.shape"
      ],
      "execution_count": null,
      "outputs": [
        {
          "output_type": "execute_result",
          "data": {
            "text/plain": [
              "torch.Size([100, 40, 84])"
            ]
          },
          "metadata": {
            "tags": []
          },
          "execution_count": 6
        }
      ]
    },
    {
      "cell_type": "markdown",
      "metadata": {
        "id": "LOfmlRnG0PdP"
      },
      "source": [
        "# GRU\n"
      ]
    },
    {
      "cell_type": "code",
      "metadata": {
        "id": "KRPhJGwKZ6i_"
      },
      "source": [
        "import torch\n",
        "import torch.nn as nn\n",
        "from torch.autograd import Variable\n",
        "\n",
        "class GRU(nn.Module):\n",
        "    def __init__(self,n_chars, hidden_size, n_layers):\n",
        "        super(GRU, self).__init__()\n",
        "        \n",
        "        self.hidden_size = 128\n",
        "        self.n_layers = n_layers\n",
        "        self.embedding_dim=300\n",
        "        self.n_chars=n_chars #number of unique characters in txt\n",
        "        \n",
        "        self.embedding = nn.Embedding(self.n_chars,self.embedding_dim)\n",
        "        self.gru = nn.GRU(self.embedding_dim, hidden_size, n_layers,batch_first=True)\n",
        "        self.fc = nn.Linear(self.hidden_size,self.n_chars)\n",
        "        #self.dropout = nn.Dropout(0.3)\n",
        "        self.softmax=nn.Softmax(dim=1)\n",
        "    \n",
        "    def forward(self, input, hidden):\n",
        "\n",
        "        input = self.embedding(input)\n",
        "\n",
        "        output, hidden = self.gru(input, hidden)\n",
        "        output = self.fc(output)\n",
        "        return output, hidden\n",
        "\n",
        "    def init_state(self,batch_size):\n",
        "        return Variable(torch.zeros(self.n_layers,batch_size, self.hidden_size))"
      ],
      "execution_count": null,
      "outputs": []
    },
    {
      "cell_type": "code",
      "metadata": {
        "colab": {
          "base_uri": "https://localhost:8080/"
        },
        "id": "87nzqYOik-8k",
        "outputId": "bb1c9d2f-8c8f-48af-fea8-bc0ff0db1843"
      },
      "source": [
        "def predict(data, model, text,n_chars,seq_len, next_chars,top_n):\n",
        "\n",
        "    state_h= model.init_state(1)\n",
        "\n",
        "    for i in range(0, next_chars):\n",
        "        x = torch.tensor([[data.char2index[char] for char in text[i:]]])\n",
        "\n",
        "        x,state_h=x.to(device),state_h.to(device)\n",
        "\n",
        "        out,state_h = model(x,state_h)\n",
        "       \n",
        "        out=out.reshape(seq_len,n_chars)\n",
        "        def sample_from_probs(probs,top_n):\n",
        "       \n",
        "          _, idxs = torch.sort(probs)\n",
        "\n",
        "          # set probabilities after top_n to 0 so that they wont be chosen\n",
        "          probs[idxs.data[:-top_n]] = 0\n",
        "          sampled_idx = torch.multinomial(probs, 1)\n",
        "          return sampled_idx\n",
        "\n",
        "        probs = torch.nn.functional.softmax(out[-1].cpu(), dim=0)\n",
        "        #print(o)\n",
        "        y_pred = sample_from_probs(probs,top_n)\n",
        "        text=text+str(data.index2char[y_pred.item()])\n",
        "\n",
        "    print(text)\n",
        "begining_sentence='Is there not ground for suspecting that '\n",
        "print(len(begining_sentence))\n",
        "#20 epoch"
      ],
      "execution_count": null,
      "outputs": [
        {
          "output_type": "stream",
          "text": [
            "40\n"
          ],
          "name": "stdout"
        }
      ]
    },
    {
      "cell_type": "code",
      "metadata": {
        "colab": {
          "base_uri": "https://localhost:8080/"
        },
        "id": "EaB37iCNuAJO",
        "outputId": "76c5a30f-333c-45fa-f5f6-b18c45351e04"
      },
      "source": [
        "n_epochs = 36\n",
        "hidden_size = 128\n",
        "n_layers = 2\n",
        "n_chars=84\n",
        "seq_len=40\n",
        "batch_size=64\n",
        "model=GRU(n_chars, hidden_size, n_layers).to(device)\n",
        "print('******** prediction before training **********')\n",
        "predict(train_data,model,begining_sentence,84,40,400,5)"
      ],
      "execution_count": null,
      "outputs": [
        {
          "output_type": "stream",
          "text": [
            "******** prediction before training **********\n",
            "Is there not ground for suspecting that iRÆ22=2athhääë?G_a]f]FäEGfwæf]EGæäæEævææväEvbäwv 5252?2f???_a'ffæihææææl\"92=æTëäfbæv_ä8((()Ff_]fCwHHwEGGfwww_Uvbææäv2ëE_äUvvCC2aV2M?a Cy_aalyG'GG-æäfwHæfæEGwwHGGGéæwä02jé)\n",
            "\n",
            "GëZGäGLffGfæfwææä8ffEU b]wBbl2bGäv2baaää(_?_?'f]]fæf w2H==ëaa(''V;EÆ\n",
            "hhGæfæTfäwæEv bväbH]Bl2bBll2,_a_aCf(haaCVäy2æEää??Gë?]za_ySvw]äb2v?aCy'äEE_?v? ?(CfhææfväwwEää?b?z_Saal;_Æ(Sf_w]w2fE Uvb ww52E?? '('hÆfGEæUEäGGGw00æffEw HG]ww\n"
          ],
          "name": "stdout"
        }
      ]
    },
    {
      "cell_type": "markdown",
      "metadata": {
        "id": "4fytEU-40Zp6"
      },
      "source": [
        "## training the GRU model"
      ]
    },
    {
      "cell_type": "code",
      "metadata": {
        "colab": {
          "base_uri": "https://localhost:8080/",
          "height": 1000,
          "referenced_widgets": [
            "d5cdc1a031824c7880a67f3a291b7afc",
            "afc2a82ba01547a9848330d7385cbc0c",
            "8c52231c9e674e2eb262150d7198ee21",
            "ecdf2c77130f459db5724d1cbfe19f7e",
            "97b861b751744737b9655bfea25a28c7",
            "cb68180758bb492dadc97ee80379f2cc",
            "6886ee68ae444807999ca8ef7f686390",
            "a4314ebfdf7740c09d370dca4f898e6b"
          ]
        },
        "id": "rTX2L-ZgExEO",
        "outputId": "401d4188-a922-43ca-c655-197e9087c55f"
      },
      "source": [
        "n_epochs = 36\n",
        "hidden_size = 128\n",
        "n_layers = 2\n",
        "n_chars=84\n",
        "seq_len=40\n",
        "batch_size=64\n",
        "model=GRU(n_chars, hidden_size, n_layers).to(device)\n",
        "\n",
        "model.train()\n",
        "criterion = nn.CrossEntropyLoss()\n",
        "#optimizer = optim.Adam(model.parameters(), lr=5e-4)\n",
        "optimizer=torch.optim.RMSprop(model.parameters(), lr=0.001)\n",
        "losses=[]\n",
        "\n",
        "for epoch in tqdm(range(n_epochs)):\n",
        "        hidden= model.init_state(batch_size)\n",
        "        optimizer.zero_grad()\n",
        "        \n",
        "        bloss,loss=0,0\n",
        "\n",
        "        for batch, (x, y) in enumerate(train_loader):\n",
        "            optimizer.zero_grad()\n",
        "            x,y,hidden=x.to(device),y.to(device),hidden.to(device)\n",
        "            \n",
        "            out,hidden = model(x,hidden)\n",
        "            #y.shape=[64, 40]=[batch_size,sequence_length]\n",
        "            #out.shape=[64, 40, 84]=[batch_size,sequence_length,n_unique_chars]\n",
        "            #hidden.shape=[2, 64, 128]=[num_layers,batch_size,hidden_size]\n",
        "            \n",
        "            y_pred=torch.argmax(out,dim=1).to(device)\n",
        "          \n",
        "            loss = criterion(out.permute(0, 2, 1).to(device),y)\n",
        "            \n",
        "            bloss+=loss.item()\n",
        "            hidden = hidden.detach()\n",
        "            loss.backward()\n",
        "            #nn.utils.clip_grad_norm_(model.parameters(),4)\n",
        "            optimizer.step()\n",
        "        if epoch%5==0:\n",
        "            print()\n",
        "            print('************ epoch '+str(epoch)+' generated text **************')\n",
        "            predict(train_data,model,begining_sentence,n_chars,seq_len,400,5)\n",
        "            print()\n",
        "\n",
        "        losses.append(bloss/len(train_loader))\n",
        "        print('on epoch: '+str(epoch)+' loss per batch = '+str(bloss/len(train_loader)))\n",
        "\n",
        "#lr 5e-4 bad nis ba embed dim=128 2.01 > 1.68 > 1.59 > 1.51 ....> 1.34 > 1.32"
      ],
      "execution_count": null,
      "outputs": [
        {
          "output_type": "display_data",
          "data": {
            "application/vnd.jupyter.widget-view+json": {
              "model_id": "d5cdc1a031824c7880a67f3a291b7afc",
              "version_minor": 0,
              "version_major": 2
            },
            "text/plain": [
              "HBox(children=(FloatProgress(value=0.0, max=36.0), HTML(value='')))"
            ]
          },
          "metadata": {
            "tags": []
          }
        },
        {
          "output_type": "stream",
          "text": [
            "\n",
            "************ epoch 0 generated text **************\n",
            "Is there not ground for suspecting that the\n",
            "extraint of the present but the clander, the\n",
            "existed took still their wish and the consciaine as sucting of sancticy of the\n",
            "saintly.--A her timended in his sonal to because\n",
            "to the sense\n",
            "as a saysed,\n",
            "but sinflice\n",
            "and the sensions, thinked as the prophers, a chisted in\n",
            "always\n",
            "them an as\n",
            "whation that that saints and himself\n",
            "a perturained that was said by the endom that there is they are are inten\n",
            "\n",
            "on epoch: 0 loss per batch = 1.814729592829857\n",
            "on epoch: 1 loss per batch = 1.5984985776967078\n",
            "on epoch: 2 loss per batch = 1.5366369066393843\n",
            "on epoch: 3 loss per batch = 1.5023022430245585\n",
            "on epoch: 4 loss per batch = 1.4790220856857057\n",
            "\n",
            "************ epoch 5 generated text **************\n",
            "Is there not ground for suspecting that that the saints of all sains, that which worked and a glation and\n",
            "eved they are not that source with the sames when inspecial sations, because of the saints the station of the same a god, as a people of him and altogether, whole,\n",
            "that\n",
            "this saints. In sance the saints of soul and their own stated by\n",
            "the philosophy by same the profound that try the same the stain or simply the same a proport and had\n",
            "\n",
            "on epoch: 5 loss per batch = 1.4621695318935244\n",
            "on epoch: 6 loss per batch = 1.4498518091605928\n",
            "on epoch: 7 loss per batch = 1.4399579234990345\n",
            "on epoch: 8 loss per batch = 1.4317923556809686\n",
            "on epoch: 9 loss per batch = 1.423533722515417\n",
            "\n",
            "************ epoch 10 generated text **************\n",
            "Is there not ground for suspecting that termine their originating onese of the spirit which, to any some that so from\n",
            "a conditioned\n",
            "to asceiness and individuound to the spontic seem to the moral and a contrarily strictiness and is not\n",
            "the saints in the spirituated their point over being. The world, as such a time their prosist of sing of the spiritually\n",
            "soul, bontics\n",
            "of the philosophical. All the same satisfactions\n",
            "that will and the chu\n",
            "\n",
            "on epoch: 10 loss per batch = 1.4179682435986332\n",
            "on epoch: 11 loss per batch = 1.4127706134993643\n",
            "on epoch: 12 loss per batch = 1.4090238649573101\n",
            "on epoch: 13 loss per batch = 1.4052433134382547\n",
            "on epoch: 14 loss per batch = 1.4018721068084488\n",
            "\n",
            "************ epoch 15 generated text **************\n",
            "Is there not ground for suspecting that his, and it wild as is not to be strong latter the saint of the spiritual contentime short and enemy\n",
            "when the people and to says that that which has here is to sinneration that the estimates, so characted to be\n",
            "also in the parened\n",
            "the contempating, and time that it where is not three saint werions and and had brad to him, that the philosopher had not\n",
            "something\n",
            "of the same tragedy. He deedly actual\n",
            "\n",
            "on epoch: 15 loss per batch = 1.3988981002357754\n",
            "on epoch: 16 loss per batch = 1.3957405616849252\n",
            "on epoch: 17 loss per batch = 1.3938573265121401\n",
            "on epoch: 18 loss per batch = 1.3916506184751365\n",
            "on epoch: 19 loss per batch = 1.3900476716584997\n",
            "\n",
            "************ epoch 20 generated text **************\n",
            "Is there not ground for suspecting that the earth that thereby with all the particular and\n",
            "imited that their soul of anyth and the same significance, as a sanctity, betrays the same souls. It\n",
            "incessing\n",
            "that it\n",
            "said this art of all master the exclar that the way, they something in so call the christianity\n",
            "as success the\n",
            "same\n",
            "sensation of his soul of the same sense of the sensation. It is, and the saints also that acquality, the proportin\n",
            "\n",
            "on epoch: 20 loss per batch = 1.3877064918473567\n",
            "on epoch: 21 loss per batch = 1.3864663186717925\n",
            "on epoch: 22 loss per batch = 1.3845115040544125\n",
            "on epoch: 23 loss per batch = 1.3833126945593137\n",
            "on epoch: 24 loss per batch = 1.3821448314757574\n",
            "\n",
            "************ epoch 25 generated text **************\n",
            "Is there not ground for suspecting that this called to the same sin the self discontently because of the intellectual and idea of the same saints, as since such a\n",
            "pain there is a sin and the peace in the spiritual same things him as the same that he should\n",
            "be still be the\n",
            "being. Hence ascending the present still sensibility and songuage is not belongs, without a means of his own bored in the whole thr his longest badne in the powers the\n",
            "\n",
            "on epoch: 25 loss per batch = 1.3802590926031062\n",
            "on epoch: 26 loss per batch = 1.3798383904478733\n",
            "on epoch: 27 loss per batch = 1.3782643255771407\n",
            "on epoch: 28 loss per batch = 1.377378038645324\n",
            "on epoch: 29 loss per batch = 1.3770465794063749\n",
            "\n",
            "************ epoch 30 generated text **************\n",
            "Is there not ground for suspecting that he display of this feel whose saidy. This\n",
            "profitual as in the cosm of the wish that the case in the spirit to say, the world and in some\n",
            "production. In the\n",
            "countlened as the sections of a supernatural and\n",
            "statiest in their classes himself since by their contemption and saint and the whole sin origin of exalted a promise whole an\n",
            "intellect, and an aper and human soul sanctity and sacrificing ordrin\n",
            "\n",
            "on epoch: 30 loss per batch = 1.3757270909833923\n",
            "on epoch: 31 loss per batch = 1.375016732351511\n",
            "on epoch: 32 loss per batch = 1.3745592344146293\n",
            "on epoch: 33 loss per batch = 1.3743674391639542\n",
            "on epoch: 34 loss per batch = 1.3729718606972625\n",
            "\n",
            "************ epoch 35 generated text **************\n",
            "Is there not ground for suspecting that the wish who would be travestind threat they constantly be a man in the same the\n",
            "praised by the statists. Is it with the saint of the way to him and history of the soul is strongest so as the weaked\n",
            "and sail, in the captions, that is sensual one say the same temptated,\n",
            "that we say to beings are not be\n",
            "extending, a state of the standard of sinful\n",
            "orn in an enthe troubochen of mons also all that is,\n",
            "\n",
            "on epoch: 35 loss per batch = 1.3725431508704016\n",
            "\n"
          ],
          "name": "stdout"
        }
      ]
    },
    {
      "cell_type": "markdown",
      "metadata": {
        "id": "lPXbdr1XyNGR"
      },
      "source": [
        "## Evaluating the GRU model\n"
      ]
    },
    {
      "cell_type": "code",
      "metadata": {
        "colab": {
          "base_uri": "https://localhost:8080/",
          "height": 281
        },
        "id": "era7-0PaxQ9u",
        "outputId": "3711ad60-c642-4c6e-c030-883236e0847d"
      },
      "source": [
        "import matplotlib.pyplot as plt\n",
        "plt.plot(losses, label='train_loss')\n",
        "plt.title('Train Data loss on GRU character language model')\n",
        "plt.ylabel('loss per batch')\n",
        "plt.legend()\n",
        "plt.show()"
      ],
      "execution_count": null,
      "outputs": [
        {
          "output_type": "display_data",
          "data": {
            "image/png": "[encoded data removed]",
            "text/plain": [
              "<Figure size 432x288 with 1 Axes>"
            ]
          },
          "metadata": {
            "tags": [],
            "needs_background": "light"
          }
        }
      ]
    },
    {
      "cell_type": "code",
      "metadata": {
        "colab": {
          "base_uri": "https://localhost:8080/"
        },
        "id": "l9sIEyFgEvaa",
        "outputId": "7f18fa66-b5bb-4d69-a930-f0a327773a24"
      },
      "source": [
        "predict(train_data,model,begining_sentence,84,40,400,5)"
      ],
      "execution_count": null,
      "outputs": [
        {
          "output_type": "stream",
          "text": [
            "Is there not ground for suspecting that the spare, who have steen the saint, we heart than the same idea of an\n",
            "every soul, so that the\n",
            "community of his significance would not become supposes to\n",
            "condivilian to the specision and such as in theirs somethic in the souls.\n",
            "The self expendent they clungled since the contatural standard, and in the saint and have been a personal sensess of sin that templation, the saints and sinful exerding,\n",
            "no\n"
          ],
          "name": "stdout"
        }
      ]
    },
    {
      "cell_type": "code",
      "metadata": {
        "colab": {
          "base_uri": "https://localhost:8080/"
        },
        "id": "Yf4rP7iSzsV_",
        "outputId": "881b9d76-d55c-404c-dc0f-cfa3a6e74155"
      },
      "source": [
        "losses"
      ],
      "execution_count": null,
      "outputs": [
        {
          "output_type": "execute_result",
          "data": {
            "text/plain": [
              "[1.814729592829857,\n",
              " 1.5984985776967078,\n",
              " 1.5366369066393843,\n",
              " 1.5023022430245585,\n",
              " 1.4790220856857057,\n",
              " 1.4621695318935244,\n",
              " 1.4498518091605928,\n",
              " 1.4399579234990345,\n",
              " 1.4317923556809686,\n",
              " 1.423533722515417,\n",
              " 1.4179682435986332,\n",
              " 1.4127706134993643,\n",
              " 1.4090238649573101,\n",
              " 1.4052433134382547,\n",
              " 1.4018721068084488,\n",
              " 1.3988981002357754,\n",
              " 1.3957405616849252,\n",
              " 1.3938573265121401,\n",
              " 1.3916506184751365,\n",
              " 1.3900476716584997,\n",
              " 1.3877064918473567,\n",
              " 1.3864663186717925,\n",
              " 1.3845115040544125,\n",
              " 1.3833126945593137,\n",
              " 1.3821448314757574,\n",
              " 1.3802590926031062,\n",
              " 1.3798383904478733,\n",
              " 1.3782643255771407,\n",
              " 1.377378038645324,\n",
              " 1.3770465794063749,\n",
              " 1.3757270909833923,\n",
              " 1.375016732351511,\n",
              " 1.3745592344146293,\n",
              " 1.3743674391639542,\n",
              " 1.3729718606972625,\n",
              " 1.3725431508704016]"
            ]
          },
          "metadata": {
            "tags": []
          },
          "execution_count": 22
        }
      ]
    },
    {
      "cell_type": "markdown",
      "metadata": {
        "id": "9bEgsEolp0hI"
      },
      "source": [
        "حواست باشه اگه جمله ی اولی که میدی دقیقا اندازش 40 نباشه چرت و پرت میسازه"
      ]
    },
    {
      "cell_type": "markdown",
      "metadata": {
        "id": "8DnrO8EN0ryu"
      },
      "source": [
        "# LSTM"
      ]
    },
    {
      "cell_type": "code",
      "metadata": {
        "id": "AFdhHniCiHgo"
      },
      "source": [
        "class LSTM(nn.Module):\n",
        "    def __init__(self,n_chars,embedding_dim,hidden_size,n_layers):\n",
        "        super(LSTM, self).__init__()\n",
        "        \n",
        "        self.n_chars = n_chars\n",
        "        self.hidden_size = hidden_size\n",
        "        self.embedding_dim = embedding_dim\n",
        "        self.n_layers = n_layers\n",
        "        \n",
        "        self.embedding = nn.Embedding(\n",
        "            num_embeddings = n_chars,\n",
        "            embedding_dim = embedding_dim)\n",
        "        \n",
        "        self.lstm = nn.LSTM(\n",
        "            input_size=embedding_dim,\n",
        "            hidden_size=hidden_size,\n",
        "            num_layers=self.n_layers,batch_first=True)\n",
        "        self.fc = nn.Linear(hidden_size, n_chars)\n",
        "\n",
        "    def forward(self, x,states):\n",
        "        embedding = self.embedding(x)\n",
        "        out,(h,c) = self.lstm(embedding,states)\n",
        "        out = self.fc(out)\n",
        "        return out,(h,c)\n",
        "\n",
        "    def init_state(self,batch_size):\n",
        "        return (torch.zeros(self.n_layers,batch_size, self.hidden_size),\n",
        "                torch.zeros(self.n_layers,batch_size, self.hidden_size))"
      ],
      "execution_count": null,
      "outputs": []
    },
    {
      "cell_type": "markdown",
      "metadata": {
        "id": "zpYOCFEH54Wp"
      },
      "source": [
        "## Training LSTM model"
      ]
    },
    {
      "cell_type": "code",
      "metadata": {
        "colab": {
          "base_uri": "https://localhost:8080/",
          "height": 721,
          "referenced_widgets": [
            "c110874db4ca44c08bfc67770003dbff",
            "01eca9b5b5414a34b1b0f8bd75797474",
            "47a522b2f74145ddbfca3e87ff8e1854",
            "a0e5f44d98894971bdd7d9f6c3fb33d8",
            "5f0a7ab50ef24eb2acec773a52b19353",
            "75c08eef249c4fac93244519e9e8b150",
            "c1c09bbed92e4a02b376ef746c41aa3e",
            "f2e3d1b91e7c42bd92c6c5d1ed802872"
          ]
        },
        "id": "k-OX1bvg9y2U",
        "outputId": "841b4b73-6b20-4521-9c5f-8d3a2aeb684e"
      },
      "source": [
        "n_epochs = 36\n",
        "hidden_size = 128\n",
        "n_layers = 2\n",
        "n_chars=84\n",
        "batch_size=64\n",
        "embedding_dim=300\n",
        "model=LSTM(n_chars,embedding_dim,hidden_size,n_layers).to(device)\n",
        "\n",
        "model.train()\n",
        "criterion = nn.CrossEntropyLoss()\n",
        "optimizer=torch.optim.RMSprop(model.parameters(), lr=0.001)\n",
        "\n",
        "losses_l=[]\n",
        "for epoch in tqdm(range(n_epochs)):\n",
        "        h,c = model.init_state(batch_size)\n",
        "        bch_loss=0\n",
        "        for i, (x, y) in enumerate(train_loader):\n",
        "            \n",
        "            optimizer.zero_grad()\n",
        "            x,y=x.to(device),y.to(device)\n",
        "            h,c=h.to(device),c.to(device)\n",
        "\n",
        "            out, (h,c) = model(x, (h,c))\n",
        "            #print(out.shape,y.shape)\n",
        "            \n",
        "            #out.shape=[64, 40, 70]= [batch_size,seq_length,n_unique_chars]\n",
        "            #y.shape=[64, 40]=[batch_size,seq_length]\n",
        "            loss = criterion(out.permute(0,2,1), y)\n",
        "            bch_loss+=loss.item()\n",
        "            h = h.detach()\n",
        "            c = c.detach()\n",
        "\n",
        "            loss.backward()\n",
        "            optimizer.step()\n",
        "        losses_l.append(bch_loss)\n",
        "        print('on epoch '+str(epoch)+' loss per batch = '+str(bch_loss/len(train_loader)))"
      ],
      "execution_count": null,
      "outputs": [
        {
          "output_type": "display_data",
          "data": {
            "application/vnd.jupyter.widget-view+json": {
              "model_id": "c110874db4ca44c08bfc67770003dbff",
              "version_minor": 0,
              "version_major": 2
            },
            "text/plain": [
              "HBox(children=(FloatProgress(value=0.0, max=36.0), HTML(value='')))"
            ]
          },
          "metadata": {
            "tags": []
          }
        },
        {
          "output_type": "stream",
          "text": [
            "on epoch 0 loss per batch = 1.8784583496110208\n",
            "on epoch 1 loss per batch = 1.6265023059454846\n",
            "on epoch 2 loss per batch = 1.548982264973478\n",
            "on epoch 3 loss per batch = 1.5045205325735915\n",
            "on epoch 4 loss per batch = 1.4741965936905814\n",
            "on epoch 5 loss per batch = 1.4513803099854452\n",
            "on epoch 6 loss per batch = 1.4333052429462554\n",
            "on epoch 7 loss per batch = 1.4184000294366252\n",
            "on epoch 8 loss per batch = 1.406059772185755\n",
            "on epoch 9 loss per batch = 1.3953554004326\n",
            "on epoch 10 loss per batch = 1.3862854287280713\n",
            "on epoch 11 loss per batch = 1.3781698111262555\n",
            "on epoch 12 loss per batch = 1.3709706308438627\n",
            "on epoch 13 loss per batch = 1.3644888572092444\n",
            "on epoch 14 loss per batch = 1.3588259716542928\n",
            "on epoch 15 loss per batch = 1.3541278031810322\n",
            "on epoch 16 loss per batch = 1.3494039050075108\n",
            "on epoch 17 loss per batch = 1.3448741732408689\n",
            "on epoch 18 loss per batch = 1.3406615156683916\n",
            "on epoch 19 loss per batch = 1.3368831238985899\n",
            "on epoch 20 loss per batch = 1.3330336443415538\n",
            "on epoch 21 loss per batch = 1.3302476310851894\n",
            "on epoch 22 loss per batch = 1.3274036527403859\n",
            "on epoch 23 loss per batch = 1.3239150684685248\n",
            "on epoch 24 loss per batch = 1.3217755163695035\n",
            "on epoch 25 loss per batch = 1.3193530839790206\n",
            "on epoch 26 loss per batch = 1.3167779577467988\n",
            "on epoch 27 loss per batch = 1.3147088372695936\n",
            "on epoch 28 loss per batch = 1.3123729228211425\n",
            "on epoch 29 loss per batch = 1.3109151735287499\n",
            "on epoch 30 loss per batch = 1.3085121893585585\n",
            "on epoch 31 loss per batch = 1.3066281690960229\n",
            "on epoch 32 loss per batch = 1.3051174054628898\n",
            "on epoch 33 loss per batch = 1.303811882090058\n",
            "on epoch 34 loss per batch = 1.3019403810126213\n",
            "on epoch 35 loss per batch = 1.3004426402228828\n",
            "\n"
          ],
          "name": "stdout"
        }
      ]
    },
    {
      "cell_type": "markdown",
      "metadata": {
        "id": "3POUdv826ApS"
      },
      "source": [
        "## Evaluating lstm model"
      ]
    },
    {
      "cell_type": "code",
      "metadata": {
        "colab": {
          "base_uri": "https://localhost:8080/",
          "height": 281
        },
        "id": "QE352c7PWK34",
        "outputId": "b9bcc7dc-3f8c-4d39-f65e-4bdac3f9b71e"
      },
      "source": [
        "import matplotlib.pyplot as plt\n",
        "plt.plot(losses_l, label='train_loss')\n",
        "plt.title('Train Data loss on LSTM character language model')\n",
        "plt.ylabel('loss per batch')\n",
        "plt.legend()\n",
        "plt.show()"
      ],
      "execution_count": null,
      "outputs": [
        {
          "output_type": "display_data",
          "data": {
            "image/png": "[encoded data removed]",
            "text/plain": [
              "<Figure size 432x288 with 1 Axes>"
            ]
          },
          "metadata": {
            "tags": [],
            "needs_background": "light"
          }
        }
      ]
    },
    {
      "cell_type": "markdown",
      "metadata": {
        "id": "BCjZQYHm5t0k"
      },
      "source": [
        "## Prediction via LSTM model"
      ]
    },
    {
      "cell_type": "code",
      "metadata": {
        "colab": {
          "base_uri": "https://localhost:8080/"
        },
        "id": "thCWIf0SaacG",
        "outputId": "671a2b98-4d88-4cbd-88ba-3365322fc7e9"
      },
      "source": [
        "def predict_lstm(dataset, model, text,n_chars,seq_length ,next_chars,top_n):\n",
        "    model.eval()\n",
        "    h,c = model.init_state(1)\n",
        "\n",
        "    for i in range(0,next_chars):\n",
        "        \n",
        "        x = torch.tensor([[dataset.char2index[w] for w in text[i:]]]).to(device)\n",
        "        h,c=h.to(device),c.to(device)\n",
        "        out, (h, c) = model(x, (h,c))\n",
        "        out=out.to(device)\n",
        "        out=out.reshape(seq_length ,n_chars)\n",
        "        \n",
        "        def sample_from_probs(probs,top_n):\n",
        "       \n",
        "          _, idxs = torch.sort(probs)\n",
        "          # set probabilities after top_n to 0 so that they won't not chosen\n",
        "          probs[idxs.data[:-top_n]] = 0\n",
        "          sampled_idx = torch.multinomial(probs, 1)\n",
        "          return sampled_idx\n",
        "\n",
        "        softmax = nn.Softmax(dim=0)\n",
        "        probs = softmax(out[-1].cpu())#out[-1] is the probabilites for last character of the text(n_char probs) \n",
        "        y_pred = sample_from_probs(probs,top_n)\n",
        "        text=text+str(dataset.index2char[y_pred.item()])\n",
        "\n",
        "    print(text)\n",
        "begining_sentence='Is there not ground for suspecting that '\n",
        "print(len(begining_sentence))\n",
        "predict_lstm(train_data,model,begining_sentence,84,40,400,5)"
      ],
      "execution_count": null,
      "outputs": [
        {
          "output_type": "stream",
          "text": [
            "40\n",
            "Is there not ground for suspecting that the imagination with\n",
            "the saint influence that\n",
            "the most disguisitation and sole that\n",
            "the\n",
            "enemy of this god, the saint torture was their own self manner, without her own state, when actor a distrustful of the imaginations, the species. The potent stin it as always in the saints which ascets of the important to any perfensity. Its feelings, who, the angian\n",
            "impossible for the ancient of the strength,\n",
            "\n"
          ],
          "name": "stdout"
        }
      ]
    },
    {
      "cell_type": "markdown",
      "metadata": {
        "id": "x3b-AHwU6G8N"
      },
      "source": [
        "# Camparing LSTM and GRU char language model"
      ]
    },
    {
      "cell_type": "code",
      "metadata": {
        "colab": {
          "base_uri": "https://localhost:8080/",
          "height": 281
        },
        "id": "N9zEWLmJ3oGg",
        "outputId": "f614465e-817a-404f-ab11-c3de96fa20bb"
      },
      "source": [
        "loss_lstm=[x/len(train_loader) for x in losses_l]\n",
        "import matplotlib.pyplot as plt\n",
        "plt.plot(loss_lstm, label='LSTM_Loss')\n",
        "plt.plot(losses, label='GRU_Loss')\n",
        "plt.title('Comparing Train Data loss on LSTM vs GRU character language model')\n",
        "plt.ylabel('loss per batch')\n",
        "plt.legend()\n",
        "plt.show()"
      ],
      "execution_count": null,
      "outputs": [
        {
          "output_type": "display_data",
          "data": {
            "image/png": "[encoded data removed]",
            "text/plain": [
              "<Figure size 432x288 with 1 Axes>"
            ]
          },
          "metadata": {
            "tags": [],
            "needs_background": "light"
          }
        }
      ]
    }
  ]
}